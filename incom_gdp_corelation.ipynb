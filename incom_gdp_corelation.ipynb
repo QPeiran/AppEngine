{
  "nbformat": 4,
  "nbformat_minor": 0,
  "metadata": {
    "colab": {
      "name": "incom_gdp_corelation.ipynb",
      "provenance": [],
      "authorship_tag": "ABX9TyPomjKyCJ/yTGj9JJtvkFKu",
      "include_colab_link": true
    },
    "kernelspec": {
      "name": "python3",
      "display_name": "Python 3"
    }
  },
  "cells": [
    {
      "cell_type": "markdown",
      "metadata": {
        "id": "view-in-github",
        "colab_type": "text"
      },
      "source": [
        "<a href=\"https://colab.research.google.com/github/QPeiran/AppEngine/blob/master/incom_gdp_corelation.ipynb\" target=\"_parent\"><img src=\"https://colab.research.google.com/assets/colab-badge.svg\" alt=\"Open In Colab\"/></a>"
      ]
    },
    {
      "cell_type": "code",
      "metadata": {
        "id": "HMF_WcpPvpEL",
        "colab_type": "code",
        "outputId": "e4a367b0-1b32-4fc5-9cef-3506e2f7dbd6",
        "colab": {
          "base_uri": "https://localhost:8080/",
          "height": 35
        }
      },
      "source": [
        "from google.colab import auth\n",
        "auth.authenticate_user()\n",
        "print('Authenticated')"
      ],
      "execution_count": 0,
      "outputs": [
        {
          "output_type": "stream",
          "text": [
            "Authenticated\n"
          ],
          "name": "stdout"
        }
      ]
    },
    {
      "cell_type": "code",
      "metadata": {
        "id": "tYw87Sl5xMV7",
        "colab_type": "code",
        "colab": {}
      },
      "source": [
        "project_id = 'countdownintervewtest'"
      ],
      "execution_count": 0,
      "outputs": []
    },
    {
      "cell_type": "code",
      "metadata": {
        "id": "z0FNYm9IwIMM",
        "colab_type": "code",
        "outputId": "acd466fb-88d5-430e-849c-e9e91cbd845b",
        "colab": {
          "base_uri": "https://localhost:8080/",
          "height": 35
        }
      },
      "source": [
        "from google.cloud import bigquery\n",
        "\n",
        "client = bigquery.Client(project= project_id)\n",
        "\n",
        "sample_count = 2000\n",
        "row_count = client.query('''\n",
        "  SELECT \n",
        "    COUNT(*) as total\n",
        "  FROM `bigquery-public-data.samples.gsod`''').to_dataframe().total[0]\n",
        "\n",
        "df = client.query('''\n",
        "  SELECT\n",
        "    *\n",
        "  FROM\n",
        "    `bigquery-public-data.samples.gsod`\n",
        "  WHERE RAND() < %d/%d\n",
        "''' % (sample_count, row_count)).to_dataframe()\n",
        "\n",
        "print('Full dataset has %d rows' % row_count)"
      ],
      "execution_count": 0,
      "outputs": [
        {
          "output_type": "stream",
          "text": [
            "Full dataset has 114420316 rows\n"
          ],
          "name": "stdout"
        }
      ]
    },
    {
      "cell_type": "code",
      "metadata": {
        "id": "J99huiK92I23",
        "colab_type": "code",
        "outputId": "47769378-c5e9-4e68-c303-0e85756ab282",
        "colab": {
          "base_uri": "https://localhost:8080/",
          "height": 53
        }
      },
      "source": [
        "%load_ext google.colab.data_table"
      ],
      "execution_count": 0,
      "outputs": [
        {
          "output_type": "stream",
          "text": [
            "The google.colab.data_table extension is already loaded. To reload it, use:\n",
            "  %reload_ext google.colab.data_table\n"
          ],
          "name": "stdout"
        }
      ]
    },
    {
      "cell_type": "code",
      "metadata": {
        "id": "2sjeJDSX2YIM",
        "colab_type": "code",
        "outputId": "477732fe-d486-4959-c04a-8a94a7364012",
        "colab": {
          "base_uri": "https://localhost:8080/",
          "height": 317
        }
      },
      "source": [
        "df.describe()"
      ],
      "execution_count": 0,
      "outputs": [
        {
          "output_type": "execute_result",
          "data": {
            "text/html": [
              "<div>\n",
              "<style scoped>\n",
              "    .dataframe tbody tr th:only-of-type {\n",
              "        vertical-align: middle;\n",
              "    }\n",
              "\n",
              "    .dataframe tbody tr th {\n",
              "        vertical-align: top;\n",
              "    }\n",
              "\n",
              "    .dataframe thead th {\n",
              "        text-align: right;\n",
              "    }\n",
              "</style>\n",
              "<table border=\"1\" class=\"dataframe\">\n",
              "  <thead>\n",
              "    <tr style=\"text-align: right;\">\n",
              "      <th></th>\n",
              "      <th>station_number</th>\n",
              "      <th>wban_number</th>\n",
              "      <th>year</th>\n",
              "      <th>month</th>\n",
              "      <th>day</th>\n",
              "      <th>mean_temp</th>\n",
              "      <th>num_mean_temp_samples</th>\n",
              "      <th>mean_dew_point</th>\n",
              "      <th>num_mean_dew_point_samples</th>\n",
              "      <th>mean_sealevel_pressure</th>\n",
              "      <th>num_mean_sealevel_pressure_samples</th>\n",
              "      <th>mean_station_pressure</th>\n",
              "      <th>num_mean_station_pressure_samples</th>\n",
              "      <th>mean_visibility</th>\n",
              "      <th>num_mean_visibility_samples</th>\n",
              "      <th>mean_wind_speed</th>\n",
              "      <th>num_mean_wind_speed_samples</th>\n",
              "      <th>max_sustained_wind_speed</th>\n",
              "      <th>max_gust_wind_speed</th>\n",
              "      <th>max_temperature</th>\n",
              "      <th>total_precipitation</th>\n",
              "      <th>snow_depth</th>\n",
              "    </tr>\n",
              "  </thead>\n",
              "  <tbody>\n",
              "    <tr>\n",
              "      <th>count</th>\n",
              "      <td>1932.000000</td>\n",
              "      <td>1932.000000</td>\n",
              "      <td>1932.000000</td>\n",
              "      <td>1932.000000</td>\n",
              "      <td>1932.000000</td>\n",
              "      <td>1932.000000</td>\n",
              "      <td>1932.000000</td>\n",
              "      <td>1867.000000</td>\n",
              "      <td>1867.000000</td>\n",
              "      <td>1445.000000</td>\n",
              "      <td>1445.000000</td>\n",
              "      <td>672.000000</td>\n",
              "      <td>672.000000</td>\n",
              "      <td>1748.000000</td>\n",
              "      <td>1748.000000</td>\n",
              "      <td>1908.000000</td>\n",
              "      <td>1908.000000</td>\n",
              "      <td>1875.000000</td>\n",
              "      <td>280.000000</td>\n",
              "      <td>1930.000000</td>\n",
              "      <td>1764.000000</td>\n",
              "      <td>93.000000</td>\n",
              "    </tr>\n",
              "    <tr>\n",
              "      <th>mean</th>\n",
              "      <td>510519.599896</td>\n",
              "      <td>90047.203416</td>\n",
              "      <td>1987.221532</td>\n",
              "      <td>6.521222</td>\n",
              "      <td>15.781056</td>\n",
              "      <td>53.218789</td>\n",
              "      <td>13.048137</td>\n",
              "      <td>42.536636</td>\n",
              "      <td>12.968399</td>\n",
              "      <td>1015.055087</td>\n",
              "      <td>11.319031</td>\n",
              "      <td>968.098958</td>\n",
              "      <td>11.882440</td>\n",
              "      <td>12.416762</td>\n",
              "      <td>12.688787</td>\n",
              "      <td>6.685377</td>\n",
              "      <td>12.991614</td>\n",
              "      <td>12.239360</td>\n",
              "      <td>24.914643</td>\n",
              "      <td>44.551813</td>\n",
              "      <td>0.076083</td>\n",
              "      <td>11.267742</td>\n",
              "    </tr>\n",
              "    <tr>\n",
              "      <th>std</th>\n",
              "      <td>294049.519557</td>\n",
              "      <td>26847.618552</td>\n",
              "      <td>15.629037</td>\n",
              "      <td>3.423207</td>\n",
              "      <td>8.909011</td>\n",
              "      <td>24.126372</td>\n",
              "      <td>7.889400</td>\n",
              "      <td>22.662919</td>\n",
              "      <td>7.908613</td>\n",
              "      <td>9.044261</td>\n",
              "      <td>7.417502</td>\n",
              "      <td>68.488931</td>\n",
              "      <td>7.702721</td>\n",
              "      <td>10.297412</td>\n",
              "      <td>7.764003</td>\n",
              "      <td>4.887379</td>\n",
              "      <td>7.866741</td>\n",
              "      <td>6.953719</td>\n",
              "      <td>9.197598</td>\n",
              "      <td>23.998740</td>\n",
              "      <td>0.343597</td>\n",
              "      <td>12.615322</td>\n",
              "    </tr>\n",
              "    <tr>\n",
              "      <th>min</th>\n",
              "      <td>10017.000000</td>\n",
              "      <td>13.000000</td>\n",
              "      <td>1933.000000</td>\n",
              "      <td>1.000000</td>\n",
              "      <td>1.000000</td>\n",
              "      <td>-48.099998</td>\n",
              "      <td>4.000000</td>\n",
              "      <td>-53.400002</td>\n",
              "      <td>4.000000</td>\n",
              "      <td>970.000000</td>\n",
              "      <td>4.000000</td>\n",
              "      <td>622.900024</td>\n",
              "      <td>4.000000</td>\n",
              "      <td>0.000000</td>\n",
              "      <td>4.000000</td>\n",
              "      <td>0.000000</td>\n",
              "      <td>4.000000</td>\n",
              "      <td>1.000000</td>\n",
              "      <td>4.100000</td>\n",
              "      <td>-62.299999</td>\n",
              "      <td>0.000000</td>\n",
              "      <td>0.400000</td>\n",
              "    </tr>\n",
              "    <tr>\n",
              "      <th>25%</th>\n",
              "      <td>265325.000000</td>\n",
              "      <td>99999.000000</td>\n",
              "      <td>1978.000000</td>\n",
              "      <td>4.000000</td>\n",
              "      <td>8.000000</td>\n",
              "      <td>39.275000</td>\n",
              "      <td>7.000000</td>\n",
              "      <td>30.000000</td>\n",
              "      <td>7.000000</td>\n",
              "      <td>1009.700012</td>\n",
              "      <td>6.000000</td>\n",
              "      <td>953.550018</td>\n",
              "      <td>6.000000</td>\n",
              "      <td>6.300000</td>\n",
              "      <td>7.000000</td>\n",
              "      <td>3.400000</td>\n",
              "      <td>7.000000</td>\n",
              "      <td>7.800000</td>\n",
              "      <td>18.950000</td>\n",
              "      <td>32.000000</td>\n",
              "      <td>0.000000</td>\n",
              "      <td>2.800000</td>\n",
              "    </tr>\n",
              "    <tr>\n",
              "      <th>50%</th>\n",
              "      <td>543755.000000</td>\n",
              "      <td>99999.000000</td>\n",
              "      <td>1989.000000</td>\n",
              "      <td>7.000000</td>\n",
              "      <td>16.000000</td>\n",
              "      <td>55.500000</td>\n",
              "      <td>8.000000</td>\n",
              "      <td>44.299999</td>\n",
              "      <td>8.000000</td>\n",
              "      <td>1014.299988</td>\n",
              "      <td>8.000000</td>\n",
              "      <td>994.250000</td>\n",
              "      <td>8.000000</td>\n",
              "      <td>9.500000</td>\n",
              "      <td>8.000000</td>\n",
              "      <td>5.800000</td>\n",
              "      <td>8.000000</td>\n",
              "      <td>11.100000</td>\n",
              "      <td>22.900000</td>\n",
              "      <td>46.400002</td>\n",
              "      <td>0.000000</td>\n",
              "      <td>7.100000</td>\n",
              "    </tr>\n",
              "    <tr>\n",
              "      <th>75%</th>\n",
              "      <td>725086.750000</td>\n",
              "      <td>99999.000000</td>\n",
              "      <td>2000.000000</td>\n",
              "      <td>9.000000</td>\n",
              "      <td>24.000000</td>\n",
              "      <td>71.800003</td>\n",
              "      <td>23.000000</td>\n",
              "      <td>58.750000</td>\n",
              "      <td>23.000000</td>\n",
              "      <td>1020.400024</td>\n",
              "      <td>18.000000</td>\n",
              "      <td>1009.900024</td>\n",
              "      <td>22.000000</td>\n",
              "      <td>15.000000</td>\n",
              "      <td>23.000000</td>\n",
              "      <td>8.600000</td>\n",
              "      <td>23.000000</td>\n",
              "      <td>15.500000</td>\n",
              "      <td>29.300000</td>\n",
              "      <td>62.200001</td>\n",
              "      <td>0.010000</td>\n",
              "      <td>13.400000</td>\n",
              "    </tr>\n",
              "    <tr>\n",
              "      <th>max</th>\n",
              "      <td>999999.000000</td>\n",
              "      <td>99999.000000</td>\n",
              "      <td>2010.000000</td>\n",
              "      <td>12.000000</td>\n",
              "      <td>31.000000</td>\n",
              "      <td>106.300003</td>\n",
              "      <td>24.000000</td>\n",
              "      <td>79.500000</td>\n",
              "      <td>24.000000</td>\n",
              "      <td>1054.699951</td>\n",
              "      <td>24.000000</td>\n",
              "      <td>1033.500000</td>\n",
              "      <td>24.000000</td>\n",
              "      <td>99.400002</td>\n",
              "      <td>24.000000</td>\n",
              "      <td>49.900002</td>\n",
              "      <td>24.000000</td>\n",
              "      <td>69.900002</td>\n",
              "      <td>62.000000</td>\n",
              "      <td>96.800003</td>\n",
              "      <td>5.910000</td>\n",
              "      <td>69.300003</td>\n",
              "    </tr>\n",
              "  </tbody>\n",
              "</table>\n",
              "</div>"
            ],
            "text/plain": [
              "       station_number   wban_number  ...  total_precipitation  snow_depth\n",
              "count     1932.000000   1932.000000  ...          1764.000000   93.000000\n",
              "mean    510519.599896  90047.203416  ...             0.076083   11.267742\n",
              "std     294049.519557  26847.618552  ...             0.343597   12.615322\n",
              "min      10017.000000     13.000000  ...             0.000000    0.400000\n",
              "25%     265325.000000  99999.000000  ...             0.000000    2.800000\n",
              "50%     543755.000000  99999.000000  ...             0.000000    7.100000\n",
              "75%     725086.750000  99999.000000  ...             0.010000   13.400000\n",
              "max     999999.000000  99999.000000  ...             5.910000   69.300003\n",
              "\n",
              "[8 rows x 22 columns]"
            ]
          },
          "metadata": {
            "tags": []
          },
          "execution_count": 8
        }
      ]
    }
  ]
}